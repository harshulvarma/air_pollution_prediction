{
 "cells": [
  {
   "cell_type": "code",
   "execution_count": 47,
   "metadata": {},
   "outputs": [],
   "source": [
    "import pandas as pd\n",
    "import numpy as np\n",
    "from sklearn.preprocessing import MinMaxScaler\n",
    "\n",
    "from fbprophet import Prophet"
   ]
  },
  {
   "cell_type": "code",
   "execution_count": 48,
   "metadata": {},
   "outputs": [],
   "source": [
    "df = pd.read_csv('air_pollution.csv')"
   ]
  },
  {
   "cell_type": "code",
   "execution_count": 49,
   "metadata": {},
   "outputs": [],
   "source": [
    "df['date'] = pd.to_datetime(df['date'])"
   ]
  },
  {
   "cell_type": "code",
   "execution_count": 50,
   "metadata": {},
   "outputs": [],
   "source": [
    "# scaler = MinMaxScaler()\n",
    "\n",
    "\n",
    "# for column in df.columns[1:]:\n",
    "    \n",
    "#     df[column] = scaler.fit_transform(df[[column]])"
   ]
  },
  {
   "cell_type": "code",
   "execution_count": 51,
   "metadata": {},
   "outputs": [],
   "source": [
    "def prophet_prediction(train,test_size):\n",
    "    \n",
    "    m = Prophet(daily_seasonality=False,weekly_seasonality=True)\n",
    "    m.fit(train)\n",
    "    future = m.make_future_dataframe(periods=test_size)\n",
    "    forecast = m.predict(future)\n",
    "    \n",
    "    forecast = forecast.tail(test_size)\n",
    "    \n",
    "    prediction = np.array(forecast['yhat'].tolist())\n",
    "    \n",
    "    return prediction"
   ]
  },
  {
   "cell_type": "code",
   "execution_count": 52,
   "metadata": {},
   "outputs": [],
   "source": [
    "def get_predictions(df):\n",
    "    \n",
    "    train = df[df['ds'].dt.year < 2017]\n",
    "    \n",
    "    test = df[df['ds'].dt.year >= 2017]\n",
    "    \n",
    "    actuals = np.array(test['y'].to_list())\n",
    "    \n",
    "    test_size = len(test)\n",
    "    \n",
    "    predictions = prophet_prediction(train,test_size)\n",
    "        \n",
    "    return actuals, predictions\n",
    "        "
   ]
  },
  {
   "cell_type": "code",
   "execution_count": 53,
   "metadata": {},
   "outputs": [],
   "source": [
    "def smape(y_true, pred):\n",
    "    return 100/len(y_true) * np.sum(2 * np.abs(pred - y_true) / (np.abs(y_true) + np.abs(pred)))\n",
    "\n",
    "def rmse(y_true,pred):\n",
    "    return np.sqrt(np.mean((pred-y_true)**2))"
   ]
  },
  {
   "cell_type": "code",
   "execution_count": 54,
   "metadata": {},
   "outputs": [],
   "source": [
    "smapes = []\n",
    "rmses = []\n",
    "\n",
    "for column in df.columns[1:]:\n",
    "\n",
    "    modeldf = df[['date',column]]\n",
    "    modeldf.columns = ['ds','y']\n",
    "    \n",
    "    actuals, predictions = get_predictions(modeldf)\n",
    "\n",
    "    smapes.append(smape(actuals,predictions))\n",
    "    rmses.append(rmse(actuals,predictions))\n",
    "    "
   ]
  },
  {
   "cell_type": "code",
   "execution_count": 55,
   "metadata": {},
   "outputs": [
    {
     "data": {
      "text/plain": [
       "array([18.82642926, 18.83101212, 18.8264949 , 18.8127383 , 18.7898007 ,\n",
       "       18.75793678, 12.4290551 , 18.6693846 , 18.61410069, 18.55266074,\n",
       "       18.48610015, 18.41553932, 18.34215227, 11.97859802, 18.19166519,\n",
       "       18.11688136, 18.04383743, 17.97347844, 17.90661151, 17.84388165,\n",
       "       11.49721627, 17.73248892, 17.68415285, 17.64059446, 17.60145712,\n",
       "       17.56618519, 17.53403819, 11.21557472, 17.47535575, 17.44661673,\n",
       "       17.41665762, 17.38420018, 17.34796151, 17.30669288, 10.97068285,\n",
       "       17.20447341, 17.14153869, 17.06967446, 16.98834818, 16.89725846,\n",
       "       16.79635321, 10.39730614, 16.5662008 , 16.43817244, 16.302757  ,\n",
       "       16.16119778, 16.01495989, 15.86570281,  9.42671193, 15.56553932,\n",
       "       15.41860535, 15.27651117, 15.14131397, 15.01501563, 14.89951599,\n",
       "        8.508032  , 14.70773359, 14.63434783, 14.57748155, 14.5379141 ,\n",
       "       14.51611042, 14.51220525,  8.23745889, 14.5569346 , 14.60414802,\n",
       "       14.66643812, 14.7423097 , 14.82999681, 14.92749656,  8.74407256,\n",
       "       15.14297689])"
      ]
     },
     "execution_count": 55,
     "metadata": {},
     "output_type": "execute_result"
    }
   ],
   "source": [
    "predictions"
   ]
  },
  {
   "cell_type": "code",
   "execution_count": 56,
   "metadata": {},
   "outputs": [
    {
     "name": "stdout",
     "output_type": "stream",
     "text": [
      "66.12774610029933\n"
     ]
    }
   ],
   "source": [
    "print(np.mean(smapes))"
   ]
  },
  {
   "cell_type": "code",
   "execution_count": 57,
   "metadata": {},
   "outputs": [
    {
     "name": "stdout",
     "output_type": "stream",
     "text": [
      "12.399652691324293\n"
     ]
    }
   ],
   "source": [
    "print(np.mean(rmses))"
   ]
  }
 ],
 "metadata": {
  "kernelspec": {
   "display_name": "Python 3",
   "language": "python",
   "name": "python3"
  },
  "language_info": {
   "codemirror_mode": {
    "name": "ipython",
    "version": 3
   },
   "file_extension": ".py",
   "mimetype": "text/x-python",
   "name": "python",
   "nbconvert_exporter": "python",
   "pygments_lexer": "ipython3",
   "version": "3.8.3"
  }
 },
 "nbformat": 4,
 "nbformat_minor": 2
}
