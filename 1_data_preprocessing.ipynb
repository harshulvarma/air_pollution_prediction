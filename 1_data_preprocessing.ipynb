{
 "cells": [
  {
   "cell_type": "markdown",
   "metadata": {},
   "source": [
    "## Data Preprocessing"
   ]
  },
  {
   "cell_type": "markdown",
   "metadata": {},
   "source": [
    "In this notebook I will look at the data, clean it and pre process it to ready it for visualisation and forecasting"
   ]
  },
  {
   "cell_type": "code",
   "execution_count": 50,
   "metadata": {},
   "outputs": [],
   "source": [
    "#importing libraries\n",
    "import numpy as np\n",
    "import pandas as pd\n",
    "\n",
    "from glob import glob\n",
    "import missingno as msno"
   ]
  },
  {
   "cell_type": "code",
   "execution_count": 51,
   "metadata": {},
   "outputs": [],
   "source": [
    "#loading data\n",
    "folder_path = 'csvs_per_year/'\n",
    "\n",
    "df = pd.DataFrame()\n",
    "\n",
    "#data is found in different files\n",
    "#getting data from folder path and concatenating it to the same df\n",
    "for file_name in glob(folder_path+'*.csv'):\n",
    "    \n",
    "    if len(df) == 0:\n",
    "        df = pd.read_csv(file_name)\n",
    "    else:\n",
    "        newdf = pd.read_csv(file_name)\n",
    "        df = pd.concat([df,newdf])"
   ]
  },
  {
   "cell_type": "code",
   "execution_count": 52,
   "metadata": {},
   "outputs": [],
   "source": [
    "#converting date to datetime format and sorting \n",
    "df['date'] = pd.to_datetime(df['date'])\n",
    "df = df.sort_values(['date'])"
   ]
  },
  {
   "cell_type": "code",
   "execution_count": 53,
   "metadata": {},
   "outputs": [
    {
     "data": {
      "text/html": [
       "<div>\n",
       "<style scoped>\n",
       "    .dataframe tbody tr th:only-of-type {\n",
       "        vertical-align: middle;\n",
       "    }\n",
       "\n",
       "    .dataframe tbody tr th {\n",
       "        vertical-align: top;\n",
       "    }\n",
       "\n",
       "    .dataframe thead th {\n",
       "        text-align: right;\n",
       "    }\n",
       "</style>\n",
       "<table border=\"1\" class=\"dataframe\">\n",
       "  <thead>\n",
       "    <tr style=\"text-align: right;\">\n",
       "      <th></th>\n",
       "      <th>date</th>\n",
       "      <th>BEN</th>\n",
       "      <th>CO</th>\n",
       "      <th>EBE</th>\n",
       "      <th>MXY</th>\n",
       "      <th>NMHC</th>\n",
       "      <th>NO_2</th>\n",
       "      <th>NOx</th>\n",
       "      <th>OXY</th>\n",
       "      <th>O_3</th>\n",
       "      <th>PM10</th>\n",
       "      <th>PXY</th>\n",
       "      <th>SO_2</th>\n",
       "      <th>TCH</th>\n",
       "      <th>TOL</th>\n",
       "      <th>station</th>\n",
       "      <th>PM25</th>\n",
       "      <th>NO</th>\n",
       "      <th>CH4</th>\n",
       "    </tr>\n",
       "  </thead>\n",
       "  <tbody>\n",
       "    <tr>\n",
       "      <th>108376</th>\n",
       "      <td>2001-01-01 01:00:00</td>\n",
       "      <td>NaN</td>\n",
       "      <td>3.62</td>\n",
       "      <td>NaN</td>\n",
       "      <td>NaN</td>\n",
       "      <td>0.79</td>\n",
       "      <td>59.150002</td>\n",
       "      <td>283.899994</td>\n",
       "      <td>NaN</td>\n",
       "      <td>7.440000</td>\n",
       "      <td>40.139999</td>\n",
       "      <td>NaN</td>\n",
       "      <td>23.389999</td>\n",
       "      <td>2.15</td>\n",
       "      <td>NaN</td>\n",
       "      <td>28079018</td>\n",
       "      <td>NaN</td>\n",
       "      <td>NaN</td>\n",
       "      <td>NaN</td>\n",
       "    </tr>\n",
       "    <tr>\n",
       "      <th>108384</th>\n",
       "      <td>2001-01-01 01:00:00</td>\n",
       "      <td>3.23</td>\n",
       "      <td>1.25</td>\n",
       "      <td>2.56</td>\n",
       "      <td>4.58</td>\n",
       "      <td>0.24</td>\n",
       "      <td>55.290001</td>\n",
       "      <td>120.000000</td>\n",
       "      <td>2.22</td>\n",
       "      <td>7.830000</td>\n",
       "      <td>30.559999</td>\n",
       "      <td>1.80</td>\n",
       "      <td>22.100000</td>\n",
       "      <td>1.58</td>\n",
       "      <td>10.74</td>\n",
       "      <td>28079099</td>\n",
       "      <td>NaN</td>\n",
       "      <td>NaN</td>\n",
       "      <td>NaN</td>\n",
       "    </tr>\n",
       "    <tr>\n",
       "      <th>108383</th>\n",
       "      <td>2001-01-01 01:00:00</td>\n",
       "      <td>2.13</td>\n",
       "      <td>0.87</td>\n",
       "      <td>1.44</td>\n",
       "      <td>3.16</td>\n",
       "      <td>NaN</td>\n",
       "      <td>53.400002</td>\n",
       "      <td>100.000000</td>\n",
       "      <td>1.06</td>\n",
       "      <td>8.350000</td>\n",
       "      <td>36.669998</td>\n",
       "      <td>1.28</td>\n",
       "      <td>11.420000</td>\n",
       "      <td>NaN</td>\n",
       "      <td>7.04</td>\n",
       "      <td>28079025</td>\n",
       "      <td>NaN</td>\n",
       "      <td>NaN</td>\n",
       "      <td>NaN</td>\n",
       "    </tr>\n",
       "    <tr>\n",
       "      <th>108382</th>\n",
       "      <td>2001-01-01 01:00:00</td>\n",
       "      <td>0.40</td>\n",
       "      <td>0.79</td>\n",
       "      <td>NaN</td>\n",
       "      <td>2.09</td>\n",
       "      <td>0.14</td>\n",
       "      <td>47.320000</td>\n",
       "      <td>54.950001</td>\n",
       "      <td>1.17</td>\n",
       "      <td>3.400000</td>\n",
       "      <td>14.440000</td>\n",
       "      <td>0.86</td>\n",
       "      <td>9.690000</td>\n",
       "      <td>1.51</td>\n",
       "      <td>5.83</td>\n",
       "      <td>28079024</td>\n",
       "      <td>NaN</td>\n",
       "      <td>NaN</td>\n",
       "      <td>NaN</td>\n",
       "    </tr>\n",
       "    <tr>\n",
       "      <th>108381</th>\n",
       "      <td>2001-01-01 01:00:00</td>\n",
       "      <td>1.08</td>\n",
       "      <td>0.67</td>\n",
       "      <td>0.96</td>\n",
       "      <td>NaN</td>\n",
       "      <td>0.10</td>\n",
       "      <td>43.820000</td>\n",
       "      <td>68.610001</td>\n",
       "      <td>NaN</td>\n",
       "      <td>32.490002</td>\n",
       "      <td>11.890000</td>\n",
       "      <td>NaN</td>\n",
       "      <td>9.350000</td>\n",
       "      <td>1.42</td>\n",
       "      <td>4.49</td>\n",
       "      <td>28079023</td>\n",
       "      <td>NaN</td>\n",
       "      <td>NaN</td>\n",
       "      <td>NaN</td>\n",
       "    </tr>\n",
       "  </tbody>\n",
       "</table>\n",
       "</div>"
      ],
      "text/plain": [
       "                      date   BEN    CO   EBE   MXY  NMHC       NO_2  \\\n",
       "108376 2001-01-01 01:00:00   NaN  3.62   NaN   NaN  0.79  59.150002   \n",
       "108384 2001-01-01 01:00:00  3.23  1.25  2.56  4.58  0.24  55.290001   \n",
       "108383 2001-01-01 01:00:00  2.13  0.87  1.44  3.16   NaN  53.400002   \n",
       "108382 2001-01-01 01:00:00  0.40  0.79   NaN  2.09  0.14  47.320000   \n",
       "108381 2001-01-01 01:00:00  1.08  0.67  0.96   NaN  0.10  43.820000   \n",
       "\n",
       "               NOx   OXY        O_3       PM10   PXY       SO_2   TCH    TOL  \\\n",
       "108376  283.899994   NaN   7.440000  40.139999   NaN  23.389999  2.15    NaN   \n",
       "108384  120.000000  2.22   7.830000  30.559999  1.80  22.100000  1.58  10.74   \n",
       "108383  100.000000  1.06   8.350000  36.669998  1.28  11.420000   NaN   7.04   \n",
       "108382   54.950001  1.17   3.400000  14.440000  0.86   9.690000  1.51   5.83   \n",
       "108381   68.610001   NaN  32.490002  11.890000   NaN   9.350000  1.42   4.49   \n",
       "\n",
       "         station  PM25  NO  CH4  \n",
       "108376  28079018   NaN NaN  NaN  \n",
       "108384  28079099   NaN NaN  NaN  \n",
       "108383  28079025   NaN NaN  NaN  \n",
       "108382  28079024   NaN NaN  NaN  \n",
       "108381  28079023   NaN NaN  NaN  "
      ]
     },
     "execution_count": 53,
     "metadata": {},
     "output_type": "execute_result"
    }
   ],
   "source": [
    "df.head()"
   ]
  },
  {
   "cell_type": "markdown",
   "metadata": {},
   "source": [
    "The dataframe consists of 17 pollutants. Since we are mainly concerened with major air pollutants that are dangerous to humans and environment, we will keep the following pollutants:\n",
    "\n",
    "1) Carbon Monoxide - CO reduces oxygen in the blood stream, when it enters the body through the lungs. The danger of this pollutant increases in people who suffer cardiovascular diseases such as angina.\n",
    "\n",
    "2) Nitrous Dioxide -  it has a direct effect on health, as short-term exposure reduces lung function while long term exposure is linked to increased risk of respiratory infection in children. NOx levels in urban areas are influenced by weather episodes, which accounts for some of the variation seen in annual results.\n",
    "\n",
    "3) Ozone - exposure to this can irritate breathing, decrease lung function, inflame airways and worsen lung conditions such as asthma. It can also affect crops and other vegetation and even buildings. \n",
    "\n",
    "4) Sulphur Dioxide - high concentrations can result in breathing impairment for asthmatics who are active outdoors. As can be seen from the graph below, levels have been consistently low in Ireland since 2002, with a slight downward trend. This trend is reflective in the shift in fuel choice across Ireland in both the residential heating sector and the energy production sector. This shift has been from sulphur containing bituminous coal to those fuels which are low in SO2 production, such as natural gas (EPA, 2013).\n",
    "\n",
    "5) PM10 particles and PM2.5 particles - These particulates are so small that they get deep into your respiratory tract and increase the risk of disorders.\n",
    "\n",
    "__[Source](http://www.askaboutireland.ie/enfo/irelands-environment/air-quality/which-pollutants-are-dang/)__\n",
    "\n"
   ]
  },
  {
   "cell_type": "markdown",
   "metadata": {},
   "source": [
    "Additionally, I will be removing the stations column which corresponds to the station id the reading is taken at and I will group the data by date regardless of station."
   ]
  },
  {
   "cell_type": "code",
   "execution_count": 54,
   "metadata": {},
   "outputs": [],
   "source": [
    "#keeping relevant columns needed\n",
    "df = df[['date','CO','NO_2','O_3','SO_2','PM10','PM25']]"
   ]
  },
  {
   "cell_type": "code",
   "execution_count": 55,
   "metadata": {},
   "outputs": [],
   "source": [
    "#grouping by date and getting mean values \n",
    "#data will then be hourly mean values\n",
    "df = df.groupby(['date']).mean().reset_index()"
   ]
  },
  {
   "cell_type": "code",
   "execution_count": 56,
   "metadata": {},
   "outputs": [
    {
     "data": {
      "text/plain": [
       "151896"
      ]
     },
     "execution_count": 56,
     "metadata": {},
     "output_type": "execute_result"
    }
   ],
   "source": [
    "#lets looks at number of rows availble\n",
    "len(df)"
   ]
  },
  {
   "cell_type": "code",
   "execution_count": 57,
   "metadata": {},
   "outputs": [
    {
     "data": {
      "text/plain": [
       "Timestamp('2001-01-01 01:00:00')"
      ]
     },
     "execution_count": 57,
     "metadata": {},
     "output_type": "execute_result"
    }
   ],
   "source": [
    "#starting date\n",
    "df['date'].min()"
   ]
  },
  {
   "cell_type": "code",
   "execution_count": 58,
   "metadata": {},
   "outputs": [
    {
     "data": {
      "text/plain": [
       "Timestamp('2018-05-01 00:00:00')"
      ]
     },
     "execution_count": 58,
     "metadata": {},
     "output_type": "execute_result"
    }
   ],
   "source": [
    "#ending date\n",
    "df['date'].max()"
   ]
  },
  {
   "cell_type": "code",
   "execution_count": 59,
   "metadata": {},
   "outputs": [
    {
     "data": {
      "text/plain": [
       "date        0\n",
       "CO         28\n",
       "NO_2       28\n",
       "O_3        28\n",
       "SO_2       28\n",
       "PM10       59\n",
       "PM25    27267\n",
       "dtype: int64"
      ]
     },
     "execution_count": 59,
     "metadata": {},
     "output_type": "execute_result"
    }
   ],
   "source": [
    "#looking at the data for null values\n",
    "df.isna().sum()"
   ]
  },
  {
   "cell_type": "markdown",
   "metadata": {},
   "source": [
    "There is around 18 years of data.\n",
    "\n",
    "We do have alot of missing values for PM25. I want to see where the data is missing and for that we will use missingno library"
   ]
  },
  {
   "cell_type": "code",
   "execution_count": 60,
   "metadata": {},
   "outputs": [
    {
     "data": {
      "text/plain": [
       "<matplotlib.axes._subplots.AxesSubplot at 0x26680056100>"
      ]
     },
     "execution_count": 60,
     "metadata": {},
     "output_type": "execute_result"
    },
    {
     "data": {
      "image/png": "[encoded data removed]",
      "text/plain": [
       "<Figure size 1800x720 with 2 Axes>"
      ]
     },
     "metadata": {
      "needs_background": "light"
     },
     "output_type": "display_data"
    }
   ],
   "source": [
    "msno.matrix(df)"
   ]
  },
  {
   "cell_type": "markdown",
   "metadata": {},
   "source": [
    "Most of the data is missing for PM25 for about starting 3-4 years. Next I will interpolate the missing data for all other pollutants but I wnat to keep the data missing for PM25 as is"
   ]
  },
  {
   "cell_type": "code",
   "execution_count": 61,
   "metadata": {},
   "outputs": [],
   "source": [
    "#function to interpolate the missing values\n",
    "def interpolation_mean(df,column_name):\n",
    "    \n",
    "    #the function takes in data frame and column names\n",
    "    \n",
    "    #checking if the column name is pm25\n",
    "    if column_name != 'PM25':\n",
    "        \n",
    "        #if pllutant is not pm25 then I take the mean of the last and the next recoreded value \n",
    "        df[column_name] =  pd.concat([df[column_name].ffill(), df[column_name].bfill()]).groupby(level=0).mean()\n",
    "        \n",
    "    else:\n",
    "        \n",
    "        #if it is pm25 I do the same interpolation as above but fill the first 4 year missing values as NaN\n",
    "        first_non_nan = df['PM25'].first_valid_index()\n",
    "\n",
    "        df[column_name] =  pd.concat([df[column_name].ffill(), df[column_name].bfill()]).groupby(level=0).mean()\n",
    "        \n",
    "        df[column_name][0:first_non_nan] = np.nan\n",
    "\n",
    "    \n",
    "    return df"
   ]
  },
  {
   "cell_type": "code",
   "execution_count": 62,
   "metadata": {},
   "outputs": [
    {
     "name": "stderr",
     "output_type": "stream",
     "text": [
      "<ipython-input-61-ff5dbafe14dd>:19: SettingWithCopyWarning: \n",
      "A value is trying to be set on a copy of a slice from a DataFrame\n",
      "\n",
      "See the caveats in the documentation: https://pandas.pydata.org/pandas-docs/stable/user_guide/indexing.html#returning-a-view-versus-a-copy\n",
      "  df[column_name][0:first_non_nan] = np.nan\n"
     ]
    }
   ],
   "source": [
    "#using interpolating function\n",
    "for column in df.columns[1:]:\n",
    "    df = interpolation_mean(df,column)"
   ]
  },
  {
   "cell_type": "code",
   "execution_count": 63,
   "metadata": {},
   "outputs": [
    {
     "data": {
      "text/plain": [
       "<matplotlib.axes._subplots.AxesSubplot at 0x266809f9220>"
      ]
     },
     "execution_count": 63,
     "metadata": {},
     "output_type": "execute_result"
    },
    {
     "data": {
      "image/png": "[encoded data removed]",
      "text/plain": [
       "<Figure size 1800x720 with 2 Axes>"
      ]
     },
     "metadata": {
      "needs_background": "light"
     },
     "output_type": "display_data"
    }
   ],
   "source": [
    "msno.matrix(df)"
   ]
  },
  {
   "cell_type": "markdown",
   "metadata": {},
   "source": [
    "As we can see now the interpolation worked and we can now visualise the data in the next notebook"
   ]
  },
  {
   "cell_type": "code",
   "execution_count": 64,
   "metadata": {},
   "outputs": [
    {
     "data": {
      "text/html": [
       "<div>\n",
       "<style scoped>\n",
       "    .dataframe tbody tr th:only-of-type {\n",
       "        vertical-align: middle;\n",
       "    }\n",
       "\n",
       "    .dataframe tbody tr th {\n",
       "        vertical-align: top;\n",
       "    }\n",
       "\n",
       "    .dataframe thead th {\n",
       "        text-align: right;\n",
       "    }\n",
       "</style>\n",
       "<table border=\"1\" class=\"dataframe\">\n",
       "  <thead>\n",
       "    <tr style=\"text-align: right;\">\n",
       "      <th></th>\n",
       "      <th>date</th>\n",
       "      <th>CO</th>\n",
       "      <th>NO_2</th>\n",
       "      <th>O_3</th>\n",
       "      <th>SO_2</th>\n",
       "      <th>PM10</th>\n",
       "      <th>PM25</th>\n",
       "    </tr>\n",
       "  </thead>\n",
       "  <tbody>\n",
       "    <tr>\n",
       "      <th>0</th>\n",
       "      <td>2001-01-01 01:00:00</td>\n",
       "      <td>1.2568</td>\n",
       "      <td>55.287601</td>\n",
       "      <td>7.8292</td>\n",
       "      <td>22.1004</td>\n",
       "      <td>30.660417</td>\n",
       "      <td>NaN</td>\n",
       "    </tr>\n",
       "    <tr>\n",
       "      <th>1</th>\n",
       "      <td>2001-01-01 02:00:00</td>\n",
       "      <td>2.2696</td>\n",
       "      <td>55.848400</td>\n",
       "      <td>7.0744</td>\n",
       "      <td>24.0064</td>\n",
       "      <td>41.035909</td>\n",
       "      <td>NaN</td>\n",
       "    </tr>\n",
       "    <tr>\n",
       "      <th>2</th>\n",
       "      <td>2001-01-01 03:00:00</td>\n",
       "      <td>2.3544</td>\n",
       "      <td>55.720800</td>\n",
       "      <td>6.8332</td>\n",
       "      <td>25.4832</td>\n",
       "      <td>56.345218</td>\n",
       "      <td>NaN</td>\n",
       "    </tr>\n",
       "    <tr>\n",
       "      <th>3</th>\n",
       "      <td>2001-01-01 04:00:00</td>\n",
       "      <td>2.0456</td>\n",
       "      <td>56.596800</td>\n",
       "      <td>7.1856</td>\n",
       "      <td>23.6180</td>\n",
       "      <td>47.972083</td>\n",
       "      <td>NaN</td>\n",
       "    </tr>\n",
       "    <tr>\n",
       "      <th>4</th>\n",
       "      <td>2001-01-01 05:00:00</td>\n",
       "      <td>1.4376</td>\n",
       "      <td>53.827600</td>\n",
       "      <td>7.9592</td>\n",
       "      <td>20.0304</td>\n",
       "      <td>36.637083</td>\n",
       "      <td>NaN</td>\n",
       "    </tr>\n",
       "  </tbody>\n",
       "</table>\n",
       "</div>"
      ],
      "text/plain": [
       "                 date      CO       NO_2     O_3     SO_2       PM10  PM25\n",
       "0 2001-01-01 01:00:00  1.2568  55.287601  7.8292  22.1004  30.660417   NaN\n",
       "1 2001-01-01 02:00:00  2.2696  55.848400  7.0744  24.0064  41.035909   NaN\n",
       "2 2001-01-01 03:00:00  2.3544  55.720800  6.8332  25.4832  56.345218   NaN\n",
       "3 2001-01-01 04:00:00  2.0456  56.596800  7.1856  23.6180  47.972083   NaN\n",
       "4 2001-01-01 05:00:00  1.4376  53.827600  7.9592  20.0304  36.637083   NaN"
      ]
     },
     "execution_count": 64,
     "metadata": {},
     "output_type": "execute_result"
    }
   ],
   "source": [
    "df.head()"
   ]
  },
  {
   "cell_type": "code",
   "execution_count": 65,
   "metadata": {},
   "outputs": [],
   "source": [
    "df.to_csv('air_pollution.csv',index=False)"
   ]
  }
 ],
 "metadata": {
  "kernelspec": {
   "display_name": "Python 3",
   "language": "python",
   "name": "python3"
  },
  "language_info": {
   "codemirror_mode": {
    "name": "ipython",
    "version": 3
   },
   "file_extension": ".py",
   "mimetype": "text/x-python",
   "name": "python",
   "nbconvert_exporter": "python",
   "pygments_lexer": "ipython3",
   "version": "3.8.3"
  }
 },
 "nbformat": 4,
 "nbformat_minor": 2
}
