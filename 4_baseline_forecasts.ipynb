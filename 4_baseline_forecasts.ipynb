{
 "cells": [
  {
   "cell_type": "markdown",
   "metadata": {},
   "source": [
    "## Baseline Forecasts - Naiive and Seasonal Naiive"
   ]
  },
  {
   "cell_type": "markdown",
   "metadata": {},
   "source": [
    "Before starting with other algorithms, I want to estabilish a baseline using simple Naiive forecasting techniques where I will assume the past week value and last year same week's value as the prediction and evaluate the performance"
   ]
  },
  {
   "cell_type": "code",
   "execution_count": 45,
   "metadata": {},
   "outputs": [],
   "source": [
    "#loading libraries\n",
    "import pandas as pd\n",
    "import numpy as np\n",
    "from sklearn.preprocessing import MinMaxScaler\n"
   ]
  },
  {
   "cell_type": "code",
   "execution_count": 46,
   "metadata": {},
   "outputs": [],
   "source": [
    "#loading data\n",
    "df = pd.read_csv('air_pollution.csv')"
   ]
  },
  {
   "cell_type": "code",
   "execution_count": 47,
   "metadata": {},
   "outputs": [],
   "source": [
    "#onverting to datetime\n",
    "df['date'] = pd.to_datetime(df['date'])"
   ]
  },
  {
   "cell_type": "code",
   "execution_count": 48,
   "metadata": {},
   "outputs": [],
   "source": [
    "# scaler = MinMaxScaler()\n",
    "\n",
    "# for column in df.columns[1:]:\n",
    "    \n",
    "#     df[column] = scaler.fit_transform(df[[column]])"
   ]
  },
  {
   "cell_type": "code",
   "execution_count": 49,
   "metadata": {},
   "outputs": [
    {
     "data": {
      "text/html": [
       "<div>\n",
       "<style scoped>\n",
       "    .dataframe tbody tr th:only-of-type {\n",
       "        vertical-align: middle;\n",
       "    }\n",
       "\n",
       "    .dataframe tbody tr th {\n",
       "        vertical-align: top;\n",
       "    }\n",
       "\n",
       "    .dataframe thead th {\n",
       "        text-align: right;\n",
       "    }\n",
       "</style>\n",
       "<table border=\"1\" class=\"dataframe\">\n",
       "  <thead>\n",
       "    <tr style=\"text-align: right;\">\n",
       "      <th></th>\n",
       "      <th>date</th>\n",
       "      <th>pollutant</th>\n",
       "      <th>quantity</th>\n",
       "    </tr>\n",
       "  </thead>\n",
       "  <tbody>\n",
       "    <tr>\n",
       "      <th>0</th>\n",
       "      <td>2004-02-15</td>\n",
       "      <td>CO</td>\n",
       "      <td>1.068245</td>\n",
       "    </tr>\n",
       "    <tr>\n",
       "      <th>1</th>\n",
       "      <td>2004-02-15</td>\n",
       "      <td>NO_2</td>\n",
       "      <td>79.180782</td>\n",
       "    </tr>\n",
       "    <tr>\n",
       "      <th>2</th>\n",
       "      <td>2004-02-15</td>\n",
       "      <td>O_3</td>\n",
       "      <td>12.400776</td>\n",
       "    </tr>\n",
       "    <tr>\n",
       "      <th>3</th>\n",
       "      <td>2004-02-15</td>\n",
       "      <td>PM10</td>\n",
       "      <td>51.815004</td>\n",
       "    </tr>\n",
       "    <tr>\n",
       "      <th>4</th>\n",
       "      <td>2004-02-15</td>\n",
       "      <td>PM25</td>\n",
       "      <td>27.801169</td>\n",
       "    </tr>\n",
       "  </tbody>\n",
       "</table>\n",
       "</div>"
      ],
      "text/plain": [
       "        date pollutant   quantity\n",
       "0 2004-02-15        CO   1.068245\n",
       "1 2004-02-15      NO_2  79.180782\n",
       "2 2004-02-15       O_3  12.400776\n",
       "3 2004-02-15      PM10  51.815004\n",
       "4 2004-02-15      PM25  27.801169"
      ]
     },
     "execution_count": 49,
     "metadata": {},
     "output_type": "execute_result"
    }
   ],
   "source": [
    "#melting the dataframe so that each row consists data for specific pollutant as seen below\n",
    "df = pd.melt(df, id_vars='date', value_vars=df.columns[1:]).reset_index(drop=True)\n",
    "\n",
    "#renaming columns\n",
    "df.columns = ['date','pollutant','quantity']\n",
    "\n",
    "#sorting based on date and pollutant\n",
    "df = df.sort_values(['date','pollutant']).reset_index(drop=True)\n",
    "\n",
    "df.head()"
   ]
  },
  {
   "cell_type": "code",
   "execution_count": 50,
   "metadata": {},
   "outputs": [],
   "source": [
    "#this function create lag features\n",
    "def create_lag(df,lag):\n",
    "    \n",
    "    #based on the lag input in the function, it creates a lag feature for the desired time\n",
    "    column_name = 'lag_'+str(lag)\n",
    "    df[column_name] = df.groupby(['pollutant'])['quantity'].shift(lag)\n",
    "    \n",
    "    df = df.dropna()\n",
    "    \n",
    "    return df"
   ]
  },
  {
   "cell_type": "code",
   "execution_count": 51,
   "metadata": {},
   "outputs": [],
   "source": [
    "#creating naiive forecast (lag for 1 time step - 1 week)\n",
    "df = create_lag(df,1)\n",
    "#creating seasonal naiive forecast (lag for 1 year - 52 time steps - 52 weeks)\n",
    "df = create_lag(df,52)"
   ]
  },
  {
   "cell_type": "code",
   "execution_count": 52,
   "metadata": {},
   "outputs": [],
   "source": [
    "#For all the forecasts train and test is specified as before 2017 and after and including 2017 data\n",
    "#although no trainin is required here the test set should be consisten\n",
    "train = df[df['date'].dt.year<2017]\n",
    "test = df[df['date'].dt.year>=2017]"
   ]
  },
  {
   "cell_type": "code",
   "execution_count": 53,
   "metadata": {},
   "outputs": [],
   "source": [
    "#evaluation metrics is smape and rmse\n",
    "def smape(y_true, pred):\n",
    "    return 100/len(y_true) * np.sum(2 * np.abs(pred - y_true) / (np.abs(y_true) + np.abs(pred)))\n",
    "\n",
    "def rmse(y_true,pred):\n",
    "    return np.sqrt(np.mean((pred-y_true)**2))"
   ]
  },
  {
   "cell_type": "markdown",
   "metadata": {},
   "source": [
    "#### For Naiive Forecast (1 week lag)"
   ]
  },
  {
   "cell_type": "code",
   "execution_count": 54,
   "metadata": {},
   "outputs": [
    {
     "name": "stdout",
     "output_type": "stream",
     "text": [
      "SMAPE:  24.015337719465975\n",
      "RMSE:  7.744063138965667\n"
     ]
    }
   ],
   "source": [
    "print('SMAPE: ',smape(np.array(test['quantity']).ravel(), np.array(test['lag_1']).ravel()))\n",
    "print('RMSE: ',rmse(np.array(test['quantity']).ravel(), np.array(test['lag_1']).ravel()))"
   ]
  },
  {
   "cell_type": "markdown",
   "metadata": {},
   "source": [
    "#### For Seasonal Naiive Forecast (52 week lag value)"
   ]
  },
  {
   "cell_type": "code",
   "execution_count": 55,
   "metadata": {},
   "outputs": [
    {
     "name": "stdout",
     "output_type": "stream",
     "text": [
      "SMAPE:  29.4866089085294\n",
      "RMSE:  9.080814752942782\n"
     ]
    }
   ],
   "source": [
    "print('SMAPE: ',smape(np.array(test['quantity']).ravel(), np.array(test['lag_52']).ravel()))\n",
    "print('RMSE: ',rmse(np.array(test['quantity']).ravel(), np.array(test['lag_52']).ravel()))"
   ]
  },
  {
   "cell_type": "code",
   "execution_count": null,
   "metadata": {},
   "outputs": [],
   "source": []
  }
 ],
 "metadata": {
  "kernelspec": {
   "display_name": "Python 3",
   "language": "python",
   "name": "python3"
  },
  "language_info": {
   "codemirror_mode": {
    "name": "ipython",
    "version": 3
   },
   "file_extension": ".py",
   "mimetype": "text/x-python",
   "name": "python",
   "nbconvert_exporter": "python",
   "pygments_lexer": "ipython3",
   "version": "3.8.3"
  }
 },
 "nbformat": 4,
 "nbformat_minor": 2
}
