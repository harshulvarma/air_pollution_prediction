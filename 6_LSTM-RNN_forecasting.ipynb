{
 "cells": [
  {
   "cell_type": "markdown",
   "metadata": {},
   "source": [
    "## Forecasting using LSTM - RNN"
   ]
  },
  {
   "cell_type": "markdown",
   "metadata": {},
   "source": [
    "In this notebook I use LSTM - RNN using Keras and Tensorflow to forecast the pollutant levels."
   ]
  },
  {
   "cell_type": "code",
   "execution_count": 35,
   "metadata": {},
   "outputs": [],
   "source": [
    "#loading libraries\n",
    "import pandas as pd\n",
    "import numpy as np\n",
    "import matplotlib.pyplot as plt\n",
    "from sklearn.preprocessing import MinMaxScaler\n",
    "\n",
    "import tensorflow as tf\n",
    "from tensorflow.keras.models import Sequential\n",
    "from tensorflow.keras.layers import Dense, Dropout, LSTM, Lambda"
   ]
  },
  {
   "cell_type": "code",
   "execution_count": 36,
   "metadata": {},
   "outputs": [],
   "source": [
    "#loading data and converting date to datetime format\n",
    "df = pd.read_csv('air_pollution.csv')\n",
    "df['date'] = pd.to_datetime(df['date'])"
   ]
  },
  {
   "cell_type": "code",
   "execution_count": 37,
   "metadata": {},
   "outputs": [],
   "source": [
    "#creating train and test sets\n",
    "train = df[df['date'].dt.year<2017]\n",
    "test = df[df['date'].dt.year>=2017]"
   ]
  },
  {
   "cell_type": "code",
   "execution_count": 38,
   "metadata": {},
   "outputs": [],
   "source": [
    "#dropping date columns\n",
    "train = train.drop(['date'],axis=1)\n",
    "test = test.drop(['date'],axis=1)"
   ]
  },
  {
   "cell_type": "code",
   "execution_count": 39,
   "metadata": {},
   "outputs": [],
   "source": [
    "#Creating a function to make feature and target set by creating sequences\n",
    "def split_sequences(sequences, n_steps):\n",
    "    \n",
    "    X, y = [],[]\n",
    "    \n",
    "    #using the number of steps, create sequences to be passed as features in the LSTM-RNN\n",
    "    for i in range(len(sequences)):\n",
    "        \n",
    "        # find the end of the time series\n",
    "        end_ix = i + n_steps\n",
    "        \n",
    "        # check if we are beyond the data\n",
    "        if end_ix == len(sequences):\n",
    "            break\n",
    "            \n",
    "        # gather features and target sequences from the series\n",
    "        seq_x, seq_y = np.array(sequences[i:end_ix]), np.array(sequences[end_ix:end_ix+1])\n",
    "        \n",
    "        #append to X and y feature and target lists\n",
    "        X.append(seq_x)\n",
    "        y.append(seq_y)\n",
    "    \n",
    "    return np.array(X), np.array(y)"
   ]
  },
  {
   "cell_type": "code",
   "execution_count": 40,
   "metadata": {},
   "outputs": [],
   "source": [
    "# getting train and test Feature and Target sets\n",
    "X_train,y_train = split_sequences(train,12)\n",
    "X_test,y_test = split_sequences(test,12)"
   ]
  },
  {
   "cell_type": "code",
   "execution_count": 41,
   "metadata": {},
   "outputs": [],
   "source": [
    "#Defining n_steps and n_features to use as input shape for the LSTM model\n",
    "n_steps = X_train.shape[1]\n",
    "n_features = X_train.shape[2]"
   ]
  },
  {
   "cell_type": "code",
   "execution_count": 42,
   "metadata": {},
   "outputs": [
    {
     "name": "stdout",
     "output_type": "stream",
     "text": [
      "Epoch 1/50\n",
      "21/21 [==============================] - 1s 38ms/step - loss: 833.1825 - val_loss: 554.4767\n",
      "Epoch 2/50\n",
      "21/21 [==============================] - 0s 15ms/step - loss: 554.4379 - val_loss: 393.7518\n",
      "Epoch 3/50\n",
      "21/21 [==============================] - 0s 15ms/step - loss: 397.1266 - val_loss: 291.8975\n",
      "Epoch 4/50\n",
      "21/21 [==============================] - 0s 16ms/step - loss: 296.3455 - val_loss: 223.2969\n",
      "Epoch 5/50\n",
      "21/21 [==============================] - 0s 16ms/step - loss: 224.5741 - val_loss: 174.1555\n",
      "Epoch 6/50\n",
      "21/21 [==============================] - 0s 18ms/step - loss: 176.8359 - val_loss: 145.6273\n",
      "Epoch 7/50\n",
      "21/21 [==============================] - 0s 15ms/step - loss: 149.0639 - val_loss: 125.8335\n",
      "Epoch 8/50\n",
      "21/21 [==============================] - 0s 15ms/step - loss: 130.5919 - val_loss: 114.1066\n",
      "Epoch 9/50\n",
      "21/21 [==============================] - 0s 15ms/step - loss: 119.0436 - val_loss: 106.2676\n",
      "Epoch 10/50\n",
      "21/21 [==============================] - 0s 15ms/step - loss: 111.5018 - val_loss: 99.8205\n",
      "Epoch 11/50\n",
      "21/21 [==============================] - 0s 17ms/step - loss: 105.7019 - val_loss: 95.3840\n",
      "Epoch 12/50\n",
      "21/21 [==============================] - 0s 16ms/step - loss: 101.3738 - val_loss: 89.4442\n",
      "Epoch 13/50\n",
      "21/21 [==============================] - 0s 17ms/step - loss: 95.8913 - val_loss: 86.4636\n",
      "Epoch 14/50\n",
      "21/21 [==============================] - 0s 19ms/step - loss: 91.1425 - val_loss: 79.2991\n",
      "Epoch 15/50\n",
      "21/21 [==============================] - 0s 19ms/step - loss: 86.2839 - val_loss: 75.4263\n",
      "Epoch 16/50\n",
      "21/21 [==============================] - 0s 20ms/step - loss: 81.8677 - val_loss: 70.7406\n",
      "Epoch 17/50\n",
      "21/21 [==============================] - 0s 22ms/step - loss: 78.7435 - val_loss: 69.2209\n",
      "Epoch 18/50\n",
      "21/21 [==============================] - 0s 23ms/step - loss: 75.6724 - val_loss: 65.3265\n",
      "Epoch 19/50\n",
      "21/21 [==============================] - 1s 29ms/step - loss: 73.1549 - val_loss: 61.7084\n",
      "Epoch 20/50\n",
      "21/21 [==============================] - 0s 19ms/step - loss: 70.3612 - val_loss: 58.3455\n",
      "Epoch 21/50\n",
      "21/21 [==============================] - 0s 16ms/step - loss: 67.7881 - val_loss: 54.1986\n",
      "Epoch 22/50\n",
      "21/21 [==============================] - 0s 17ms/step - loss: 65.6194 - val_loss: 52.4794\n",
      "Epoch 23/50\n",
      "21/21 [==============================] - 0s 16ms/step - loss: 63.9874 - val_loss: 50.3547\n",
      "Epoch 24/50\n",
      "21/21 [==============================] - 0s 17ms/step - loss: 62.4809 - val_loss: 50.1383\n",
      "Epoch 25/50\n",
      "21/21 [==============================] - 0s 17ms/step - loss: 59.7098 - val_loss: 46.4339\n",
      "Epoch 26/50\n",
      "21/21 [==============================] - 0s 17ms/step - loss: 58.4913 - val_loss: 45.5105\n",
      "Epoch 27/50\n",
      "21/21 [==============================] - 0s 17ms/step - loss: 57.0770 - val_loss: 43.4457\n",
      "Epoch 28/50\n",
      "21/21 [==============================] - 0s 17ms/step - loss: 56.0698 - val_loss: 42.6395\n",
      "Epoch 29/50\n",
      "21/21 [==============================] - 0s 17ms/step - loss: 55.1921 - val_loss: 43.6079\n",
      "Epoch 30/50\n",
      "21/21 [==============================] - 0s 16ms/step - loss: 53.2602 - val_loss: 40.4032\n",
      "Epoch 31/50\n",
      "21/21 [==============================] - 0s 15ms/step - loss: 53.4914 - val_loss: 41.0685\n",
      "Epoch 32/50\n",
      "21/21 [==============================] - 0s 17ms/step - loss: 51.6427 - val_loss: 40.0814\n",
      "Epoch 33/50\n",
      "21/21 [==============================] - 0s 18ms/step - loss: 50.5690 - val_loss: 37.9469\n",
      "Epoch 34/50\n",
      "21/21 [==============================] - 0s 19ms/step - loss: 49.9085 - val_loss: 38.9474\n",
      "Epoch 35/50\n",
      "21/21 [==============================] - 0s 18ms/step - loss: 50.2773 - val_loss: 39.4660\n",
      "Epoch 36/50\n",
      "21/21 [==============================] - 0s 17ms/step - loss: 49.5667 - val_loss: 37.2675\n",
      "Epoch 37/50\n",
      "21/21 [==============================] - 0s 17ms/step - loss: 48.8168 - val_loss: 36.9029\n",
      "Epoch 38/50\n",
      "21/21 [==============================] - 0s 17ms/step - loss: 47.2727 - val_loss: 34.9355\n",
      "Epoch 39/50\n",
      "21/21 [==============================] - 0s 18ms/step - loss: 46.3903 - val_loss: 35.3029\n",
      "Epoch 40/50\n",
      "21/21 [==============================] - 0s 17ms/step - loss: 46.4527 - val_loss: 34.9140\n",
      "Epoch 41/50\n",
      "21/21 [==============================] - 0s 15ms/step - loss: 45.4110 - val_loss: 34.7793\n",
      "Epoch 42/50\n",
      "21/21 [==============================] - 0s 15ms/step - loss: 45.5616 - val_loss: 34.5476\n",
      "Epoch 43/50\n",
      "21/21 [==============================] - 0s 17ms/step - loss: 45.6083 - val_loss: 34.5079\n",
      "Epoch 44/50\n",
      "21/21 [==============================] - 0s 17ms/step - loss: 45.9909 - val_loss: 34.0924\n",
      "Epoch 45/50\n",
      "21/21 [==============================] - 0s 17ms/step - loss: 44.6643 - val_loss: 32.4796\n",
      "Epoch 46/50\n",
      "21/21 [==============================] - 0s 17ms/step - loss: 43.6817 - val_loss: 34.5879\n",
      "Epoch 47/50\n",
      "21/21 [==============================] - 0s 21ms/step - loss: 44.7834 - val_loss: 33.5000\n",
      "Epoch 48/50\n",
      "21/21 [==============================] - 0s 21ms/step - loss: 44.1122 - val_loss: 34.4469\n",
      "Epoch 49/50\n",
      "21/21 [==============================] - 0s 18ms/step - loss: 44.4379 - val_loss: 35.7289\n",
      "Epoch 50/50\n",
      "21/21 [==============================] - 0s 17ms/step - loss: 42.9381 - val_loss: 34.6096\n"
     ]
    }
   ],
   "source": [
    "#creating LSTM-RNN model\n",
    "model = Sequential()\n",
    "model.add(LSTM(256,input_shape=(n_steps, n_features),return_sequences=True))\n",
    "model.add(Lambda(lambda x: x[:, -1:, :])) #this layer ensures the input and output are many-to-many using padding\n",
    "model.add(Dense(6))\n",
    "model.compile(optimizer='adam', loss='mse')\n",
    "history = model.fit(X_train, y_train,validation_data=(X_test,y_test), epochs = 50)"
   ]
  },
  {
   "cell_type": "code",
   "execution_count": 43,
   "metadata": {},
   "outputs": [
    {
     "data": {
      "image/png": "[encoded data removed]",
      "text/plain": [
       "<Figure size 432x288 with 1 Axes>"
      ]
     },
     "metadata": {
      "needs_background": "light"
     },
     "output_type": "display_data"
    }
   ],
   "source": [
    "#Looking at the losses\n",
    "plt.plot(history.history['loss'])\n",
    "plt.plot(history.history['val_loss'])\n",
    "plt.title('Model loss')\n",
    "plt.ylabel('Loss')\n",
    "plt.xlabel('Epoch')\n",
    "plt.legend(['Train', 'Test'], loc='upper right')\n",
    "plt.show()"
   ]
  },
  {
   "cell_type": "code",
   "execution_count": 44,
   "metadata": {},
   "outputs": [],
   "source": [
    "#defining metrics for evaluation\n",
    "def smape(A, F):\n",
    "    return 100/len(A) * np.sum(2 * np.abs(F - A) / (np.abs(A) + np.abs(F)))\n",
    "\n",
    "def rmse(A,F):\n",
    "    return np.sqrt(np.mean((F-A)**2))"
   ]
  },
  {
   "cell_type": "code",
   "execution_count": 45,
   "metadata": {},
   "outputs": [
    {
     "name": "stdout",
     "output_type": "stream",
     "text": [
      "WARNING:tensorflow:5 out of the last 11 calls to <function Model.make_predict_function.<locals>.predict_function at 0x000002A15BE41AF0> triggered tf.function retracing. Tracing is expensive and the excessive number of tracings could be due to (1) creating @tf.function repeatedly in a loop, (2) passing tensors with different shapes, (3) passing Python objects instead of tensors. For (1), please define your @tf.function outside of the loop. For (2), @tf.function has experimental_relax_shapes=True option that relaxes argument shapes that can avoid unnecessary retracing. For (3), please refer to https://www.tensorflow.org/tutorials/customization/performance#python_or_tensor_args and https://www.tensorflow.org/api_docs/python/tf/function for  more details.\n"
     ]
    }
   ],
   "source": [
    "#getting predictions\n",
    "predictions = model.predict(X_test)"
   ]
  },
  {
   "cell_type": "code",
   "execution_count": 46,
   "metadata": {},
   "outputs": [
    {
     "name": "stdout",
     "output_type": "stream",
     "text": [
      "SMAPE:  24.349224138758405\n",
      "RMSE:  5.882990908629967\n"
     ]
    }
   ],
   "source": [
    "#final results\n",
    "print('SMAPE: ', smape(y_test.ravel(),predictions.ravel()))\n",
    "print('RMSE: ', rmse(y_test.ravel(),predictions.ravel()))"
   ]
  },
  {
   "cell_type": "code",
   "execution_count": null,
   "metadata": {},
   "outputs": [],
   "source": []
  },
  {
   "cell_type": "code",
   "execution_count": null,
   "metadata": {},
   "outputs": [],
   "source": []
  },
  {
   "cell_type": "code",
   "execution_count": null,
   "metadata": {},
   "outputs": [],
   "source": []
  }
 ],
 "metadata": {
  "kernelspec": {
   "display_name": "Python 3",
   "language": "python",
   "name": "python3"
  },
  "language_info": {
   "codemirror_mode": {
    "name": "ipython",
    "version": 3
   },
   "file_extension": ".py",
   "mimetype": "text/x-python",
   "name": "python",
   "nbconvert_exporter": "python",
   "pygments_lexer": "ipython3",
   "version": "3.8.3"
  }
 },
 "nbformat": 4,
 "nbformat_minor": 4
}
