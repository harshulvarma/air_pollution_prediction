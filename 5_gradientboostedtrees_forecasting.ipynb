{
 "cells": [
  {
   "cell_type": "markdown",
   "metadata": {},
   "source": [
    "### Forecasting using Gradient Boosted Trees"
   ]
  },
  {
   "cell_type": "markdown",
   "metadata": {},
   "source": [
    "In this notebook I will now dive in Machine learning model namely Gradient Boosted Trees using lightgbm library. Time series forecasting using machine learning models is done by treating the problem as supervised learning regression problem and thus I will first create autoregressive, autoregressive lag error and moving average features."
   ]
  },
  {
   "cell_type": "code",
   "execution_count": 1,
   "metadata": {},
   "outputs": [],
   "source": [
    "#loading libraries\n",
    "import pandas as pd\n",
    "import numpy as np\n",
    "from sklearn.preprocessing import MinMaxScaler\n",
    "import seaborn as sns\n",
    "import matplotlib.pyplot as plt\n",
    "\n",
    "from lightgbm import LGBMRegressor"
   ]
  },
  {
   "cell_type": "code",
   "execution_count": 2,
   "metadata": {},
   "outputs": [],
   "source": [
    "#loading data\n",
    "df = pd.read_csv('air_pollution.csv')"
   ]
  },
  {
   "cell_type": "code",
   "execution_count": 3,
   "metadata": {},
   "outputs": [],
   "source": [
    "#converting to datetime\n",
    "df['date'] = pd.to_datetime(df['date'])"
   ]
  },
  {
   "cell_type": "code",
   "execution_count": 4,
   "metadata": {},
   "outputs": [],
   "source": [
    "# scaler = MinMaxScaler()\n",
    "\n",
    "\n",
    "# for column in df.columns[1:]:\n",
    "    \n",
    "#     df[column] = scaler.fit_transform(df[[column]])"
   ]
  },
  {
   "cell_type": "code",
   "execution_count": 5,
   "metadata": {},
   "outputs": [
    {
     "data": {
      "text/html": [
       "<div>\n",
       "<style scoped>\n",
       "    .dataframe tbody tr th:only-of-type {\n",
       "        vertical-align: middle;\n",
       "    }\n",
       "\n",
       "    .dataframe tbody tr th {\n",
       "        vertical-align: top;\n",
       "    }\n",
       "\n",
       "    .dataframe thead th {\n",
       "        text-align: right;\n",
       "    }\n",
       "</style>\n",
       "<table border=\"1\" class=\"dataframe\">\n",
       "  <thead>\n",
       "    <tr style=\"text-align: right;\">\n",
       "      <th></th>\n",
       "      <th>date</th>\n",
       "      <th>pollutant</th>\n",
       "      <th>quantity</th>\n",
       "    </tr>\n",
       "  </thead>\n",
       "  <tbody>\n",
       "    <tr>\n",
       "      <th>0</th>\n",
       "      <td>2004-02-15</td>\n",
       "      <td>CO</td>\n",
       "      <td>1.068245</td>\n",
       "    </tr>\n",
       "    <tr>\n",
       "      <th>1</th>\n",
       "      <td>2004-02-15</td>\n",
       "      <td>NO_2</td>\n",
       "      <td>79.180782</td>\n",
       "    </tr>\n",
       "    <tr>\n",
       "      <th>2</th>\n",
       "      <td>2004-02-15</td>\n",
       "      <td>O_3</td>\n",
       "      <td>12.400776</td>\n",
       "    </tr>\n",
       "    <tr>\n",
       "      <th>3</th>\n",
       "      <td>2004-02-15</td>\n",
       "      <td>PM10</td>\n",
       "      <td>51.815004</td>\n",
       "    </tr>\n",
       "    <tr>\n",
       "      <th>4</th>\n",
       "      <td>2004-02-15</td>\n",
       "      <td>PM25</td>\n",
       "      <td>27.801169</td>\n",
       "    </tr>\n",
       "  </tbody>\n",
       "</table>\n",
       "</div>"
      ],
      "text/plain": [
       "        date pollutant   quantity\n",
       "0 2004-02-15        CO   1.068245\n",
       "1 2004-02-15      NO_2  79.180782\n",
       "2 2004-02-15       O_3  12.400776\n",
       "3 2004-02-15      PM10  51.815004\n",
       "4 2004-02-15      PM25  27.801169"
      ]
     },
     "execution_count": 5,
     "metadata": {},
     "output_type": "execute_result"
    }
   ],
   "source": [
    "#melting the dataframe so that each row consists data for specific pollutant as seen below\n",
    "df = pd.melt(df, id_vars='date', value_vars=df.columns[1:]).reset_index(drop=True)\n",
    "\n",
    "#renaming columns\n",
    "df.columns = ['date','pollutant','quantity']\n",
    "\n",
    "#sorting based on date and pollutant\n",
    "df = df.sort_values(['date','pollutant']).reset_index(drop=True)\n",
    "\n",
    "df.head()"
   ]
  },
  {
   "cell_type": "code",
   "execution_count": 6,
   "metadata": {},
   "outputs": [],
   "source": [
    "#this function creates lag features\n",
    "def create_lag(df,number_of_lags):\n",
    "    \n",
    "    #using the input number of lags, lag features will be created starting from lag of 1 to number_of_week lags\n",
    "    for lag in range(1,number_of_lags+1):\n",
    "        \n",
    "        column_name = 'lag_'+str(lag)\n",
    "        df[column_name] = df.groupby(['pollutant'])['quantity'].shift(lag)\n",
    "        \n",
    "    return df"
   ]
  },
  {
   "cell_type": "code",
   "execution_count": 7,
   "metadata": {},
   "outputs": [],
   "source": [
    "#this function creates lag residuals/erros\n",
    "def create_lag_errors(df,number_of_lags):\n",
    "    \n",
    "    #using the input number of lags, lag residual features will be created starting from lag of 1 to number_of_week lags\n",
    "    for lag in range(2,number_of_lags+1):\n",
    "        \n",
    "        column_name = 'lag_errors_'+str(lag)\n",
    "        \n",
    "        df[column_name] = df.groupby(['pollutant'])['quantity'].shift(lag-1) - df.groupby(['pollutant'])['quantity'].shift(lag)\n",
    "        \n",
    "    return df"
   ]
  },
  {
   "cell_type": "code",
   "execution_count": 8,
   "metadata": {},
   "outputs": [],
   "source": [
    "#this function creates moving average features\n",
    "def create_moving_average(df,moving_weeks):\n",
    "    \n",
    "    #using input moving_weeks, moving averages for the specified number of weeks created\n",
    "    for moving_week in moving_weeks:\n",
    "        \n",
    "        column_name = 'moving_avg_' + str(moving_week)\n",
    "        \n",
    "        df[column_name] = df.groupby(['pollutant'])['quantity'].transform(lambda x: x.rolling(moving_week).mean())\n",
    "        \n",
    "    return df"
   ]
  },
  {
   "cell_type": "code",
   "execution_count": 9,
   "metadata": {},
   "outputs": [],
   "source": [
    "#this functions calls the above functions to create the features\n",
    "def create_features(df):\n",
    "    \n",
    "    #specifying number of lag, lag error/residuals and moving avergaes\n",
    "    number_of_lags = 52\n",
    "    moving_weeks = [4,8,12]\n",
    "    \n",
    "    #categorical features\n",
    "    df['week_of_year'] = df['date'].dt.weekofyear.astype(int)\n",
    "    df['month'] = df['date'].dt.month\n",
    "    \n",
    "    #numerical features\n",
    "    df = create_lag(df,number_of_lags)\n",
    "    df = create_lag_errors(df,number_of_lags)\n",
    "    df = create_moving_average(df,moving_weeks)\n",
    "    \n",
    "    df = df.dropna()\n",
    "    \n",
    "    return df\n",
    "    \n"
   ]
  },
  {
   "cell_type": "code",
   "execution_count": 10,
   "metadata": {},
   "outputs": [],
   "source": [
    "#creating features\n",
    "df = create_features(df)"
   ]
  },
  {
   "cell_type": "code",
   "execution_count": 11,
   "metadata": {},
   "outputs": [
    {
     "name": "stdout",
     "output_type": "stream",
     "text": [
      "{0: 'CO', 1: 'NO_2', 2: 'O_3', 3: 'PM10', 4: 'PM25', 5: 'SO_2'}\n"
     ]
    }
   ],
   "source": [
    "#label encoding pollutants\n",
    "print(dict(enumerate(df['pollutant'].astype('category').cat.categories)))\n",
    "df['pollutant'] = df['pollutant'].astype('category').cat.codes"
   ]
  },
  {
   "cell_type": "code",
   "execution_count": 12,
   "metadata": {},
   "outputs": [],
   "source": [
    "#creating train and test dataset\n",
    "train = df[df['date'].dt.year<2017]\n",
    "test = df[df['date'].dt.year>=2017]"
   ]
  },
  {
   "cell_type": "code",
   "execution_count": 13,
   "metadata": {},
   "outputs": [],
   "source": [
    "#creating features and target variable\n",
    "X_train, X_test = train.drop(['quantity','date'],axis=1), test.drop(['quantity','date'],axis=1)\n",
    "y_train, y_test = train[['quantity']], test[['quantity']]"
   ]
  },
  {
   "cell_type": "code",
   "execution_count": 14,
   "metadata": {},
   "outputs": [
    {
     "data": {
      "text/html": [
       "<div>\n",
       "<style scoped>\n",
       "    .dataframe tbody tr th:only-of-type {\n",
       "        vertical-align: middle;\n",
       "    }\n",
       "\n",
       "    .dataframe tbody tr th {\n",
       "        vertical-align: top;\n",
       "    }\n",
       "\n",
       "    .dataframe thead th {\n",
       "        text-align: right;\n",
       "    }\n",
       "</style>\n",
       "<table border=\"1\" class=\"dataframe\">\n",
       "  <thead>\n",
       "    <tr style=\"text-align: right;\">\n",
       "      <th></th>\n",
       "      <th>pollutant</th>\n",
       "      <th>week_of_year</th>\n",
       "      <th>month</th>\n",
       "      <th>lag_1</th>\n",
       "      <th>lag_2</th>\n",
       "      <th>lag_3</th>\n",
       "      <th>lag_4</th>\n",
       "      <th>lag_5</th>\n",
       "      <th>lag_6</th>\n",
       "      <th>lag_7</th>\n",
       "      <th>...</th>\n",
       "      <th>lag_errors_46</th>\n",
       "      <th>lag_errors_47</th>\n",
       "      <th>lag_errors_48</th>\n",
       "      <th>lag_errors_49</th>\n",
       "      <th>lag_errors_50</th>\n",
       "      <th>lag_errors_51</th>\n",
       "      <th>lag_errors_52</th>\n",
       "      <th>moving_avg_4</th>\n",
       "      <th>moving_avg_8</th>\n",
       "      <th>moving_avg_12</th>\n",
       "    </tr>\n",
       "  </thead>\n",
       "  <tbody>\n",
       "    <tr>\n",
       "      <th>312</th>\n",
       "      <td>0</td>\n",
       "      <td>6</td>\n",
       "      <td>2</td>\n",
       "      <td>0.755620</td>\n",
       "      <td>0.657735</td>\n",
       "      <td>1.136940</td>\n",
       "      <td>1.488046</td>\n",
       "      <td>1.204828</td>\n",
       "      <td>0.962628</td>\n",
       "      <td>0.854022</td>\n",
       "      <td>...</td>\n",
       "      <td>0.108609</td>\n",
       "      <td>-0.172014</td>\n",
       "      <td>0.073085</td>\n",
       "      <td>-0.164590</td>\n",
       "      <td>0.138457</td>\n",
       "      <td>-0.074996</td>\n",
       "      <td>-0.385295</td>\n",
       "      <td>0.875809</td>\n",
       "      <td>1.001595</td>\n",
       "      <td>0.993200</td>\n",
       "    </tr>\n",
       "    <tr>\n",
       "      <th>313</th>\n",
       "      <td>1</td>\n",
       "      <td>6</td>\n",
       "      <td>2</td>\n",
       "      <td>69.863716</td>\n",
       "      <td>54.835228</td>\n",
       "      <td>86.676688</td>\n",
       "      <td>108.156400</td>\n",
       "      <td>80.706603</td>\n",
       "      <td>69.754705</td>\n",
       "      <td>63.308224</td>\n",
       "      <td>...</td>\n",
       "      <td>8.071938</td>\n",
       "      <td>-13.055537</td>\n",
       "      <td>1.727996</td>\n",
       "      <td>-12.818784</td>\n",
       "      <td>14.458395</td>\n",
       "      <td>-4.763559</td>\n",
       "      <td>-19.315294</td>\n",
       "      <td>73.259999</td>\n",
       "      <td>76.870741</td>\n",
       "      <td>74.143265</td>\n",
       "    </tr>\n",
       "    <tr>\n",
       "      <th>314</th>\n",
       "      <td>2</td>\n",
       "      <td>6</td>\n",
       "      <td>2</td>\n",
       "      <td>23.245369</td>\n",
       "      <td>31.682712</td>\n",
       "      <td>12.762710</td>\n",
       "      <td>7.434492</td>\n",
       "      <td>11.212100</td>\n",
       "      <td>17.356486</td>\n",
       "      <td>20.416040</td>\n",
       "      <td>...</td>\n",
       "      <td>-9.208752</td>\n",
       "      <td>20.945863</td>\n",
       "      <td>-2.810988</td>\n",
       "      <td>0.059893</td>\n",
       "      <td>-1.173413</td>\n",
       "      <td>9.311536</td>\n",
       "      <td>9.355692</td>\n",
       "      <td>21.535477</td>\n",
       "      <td>17.820129</td>\n",
       "      <td>16.365192</td>\n",
       "    </tr>\n",
       "    <tr>\n",
       "      <th>315</th>\n",
       "      <td>3</td>\n",
       "      <td>6</td>\n",
       "      <td>2</td>\n",
       "      <td>29.961035</td>\n",
       "      <td>21.745874</td>\n",
       "      <td>42.978184</td>\n",
       "      <td>69.365529</td>\n",
       "      <td>37.720337</td>\n",
       "      <td>30.722594</td>\n",
       "      <td>23.800833</td>\n",
       "      <td>...</td>\n",
       "      <td>1.685205</td>\n",
       "      <td>-42.916534</td>\n",
       "      <td>34.462095</td>\n",
       "      <td>-11.283626</td>\n",
       "      <td>20.237257</td>\n",
       "      <td>-13.439121</td>\n",
       "      <td>-23.259497</td>\n",
       "      <td>32.944579</td>\n",
       "      <td>36.673451</td>\n",
       "      <td>36.682070</td>\n",
       "    </tr>\n",
       "    <tr>\n",
       "      <th>316</th>\n",
       "      <td>4</td>\n",
       "      <td>6</td>\n",
       "      <td>2</td>\n",
       "      <td>16.066019</td>\n",
       "      <td>11.924758</td>\n",
       "      <td>23.816695</td>\n",
       "      <td>41.590177</td>\n",
       "      <td>24.208014</td>\n",
       "      <td>19.728857</td>\n",
       "      <td>15.225487</td>\n",
       "      <td>...</td>\n",
       "      <td>1.771861</td>\n",
       "      <td>-14.897024</td>\n",
       "      <td>10.889825</td>\n",
       "      <td>-5.054113</td>\n",
       "      <td>8.721550</td>\n",
       "      <td>-6.864485</td>\n",
       "      <td>-9.729223</td>\n",
       "      <td>18.260107</td>\n",
       "      <td>21.724120</td>\n",
       "      <td>22.664722</td>\n",
       "    </tr>\n",
       "  </tbody>\n",
       "</table>\n",
       "<p>5 rows × 109 columns</p>\n",
       "</div>"
      ],
      "text/plain": [
       "     pollutant  week_of_year  month      lag_1      lag_2      lag_3  \\\n",
       "312          0             6      2   0.755620   0.657735   1.136940   \n",
       "313          1             6      2  69.863716  54.835228  86.676688   \n",
       "314          2             6      2  23.245369  31.682712  12.762710   \n",
       "315          3             6      2  29.961035  21.745874  42.978184   \n",
       "316          4             6      2  16.066019  11.924758  23.816695   \n",
       "\n",
       "          lag_4      lag_5      lag_6      lag_7  ...  lag_errors_46  \\\n",
       "312    1.488046   1.204828   0.962628   0.854022  ...       0.108609   \n",
       "313  108.156400  80.706603  69.754705  63.308224  ...       8.071938   \n",
       "314    7.434492  11.212100  17.356486  20.416040  ...      -9.208752   \n",
       "315   69.365529  37.720337  30.722594  23.800833  ...       1.685205   \n",
       "316   41.590177  24.208014  19.728857  15.225487  ...       1.771861   \n",
       "\n",
       "     lag_errors_47  lag_errors_48  lag_errors_49  lag_errors_50  \\\n",
       "312      -0.172014       0.073085      -0.164590       0.138457   \n",
       "313     -13.055537       1.727996     -12.818784      14.458395   \n",
       "314      20.945863      -2.810988       0.059893      -1.173413   \n",
       "315     -42.916534      34.462095     -11.283626      20.237257   \n",
       "316     -14.897024      10.889825      -5.054113       8.721550   \n",
       "\n",
       "     lag_errors_51  lag_errors_52  moving_avg_4  moving_avg_8  moving_avg_12  \n",
       "312      -0.074996      -0.385295      0.875809      1.001595       0.993200  \n",
       "313      -4.763559     -19.315294     73.259999     76.870741      74.143265  \n",
       "314       9.311536       9.355692     21.535477     17.820129      16.365192  \n",
       "315     -13.439121     -23.259497     32.944579     36.673451      36.682070  \n",
       "316      -6.864485      -9.729223     18.260107     21.724120      22.664722  \n",
       "\n",
       "[5 rows x 109 columns]"
      ]
     },
     "execution_count": 14,
     "metadata": {},
     "output_type": "execute_result"
    }
   ],
   "source": [
    "X_train.head()"
   ]
  },
  {
   "cell_type": "code",
   "execution_count": 15,
   "metadata": {},
   "outputs": [
    {
     "data": {
      "text/html": [
       "<div>\n",
       "<style scoped>\n",
       "    .dataframe tbody tr th:only-of-type {\n",
       "        vertical-align: middle;\n",
       "    }\n",
       "\n",
       "    .dataframe tbody tr th {\n",
       "        vertical-align: top;\n",
       "    }\n",
       "\n",
       "    .dataframe thead th {\n",
       "        text-align: right;\n",
       "    }\n",
       "</style>\n",
       "<table border=\"1\" class=\"dataframe\">\n",
       "  <thead>\n",
       "    <tr style=\"text-align: right;\">\n",
       "      <th></th>\n",
       "      <th>quantity</th>\n",
       "    </tr>\n",
       "  </thead>\n",
       "  <tbody>\n",
       "    <tr>\n",
       "      <th>312</th>\n",
       "      <td>0.952942</td>\n",
       "    </tr>\n",
       "    <tr>\n",
       "      <th>313</th>\n",
       "      <td>81.664363</td>\n",
       "    </tr>\n",
       "    <tr>\n",
       "      <th>314</th>\n",
       "      <td>18.451118</td>\n",
       "    </tr>\n",
       "    <tr>\n",
       "      <th>315</th>\n",
       "      <td>37.093223</td>\n",
       "    </tr>\n",
       "    <tr>\n",
       "      <th>316</th>\n",
       "      <td>21.232954</td>\n",
       "    </tr>\n",
       "  </tbody>\n",
       "</table>\n",
       "</div>"
      ],
      "text/plain": [
       "      quantity\n",
       "312   0.952942\n",
       "313  81.664363\n",
       "314  18.451118\n",
       "315  37.093223\n",
       "316  21.232954"
      ]
     },
     "execution_count": 15,
     "metadata": {},
     "output_type": "execute_result"
    }
   ],
   "source": [
    "y_train.head()"
   ]
  },
  {
   "cell_type": "code",
   "execution_count": 16,
   "metadata": {},
   "outputs": [],
   "source": [
    "#defining evaluation metrics\n",
    "def smape(y_true, pred):\n",
    "    return 100/len(y_true) * np.sum(2 * np.abs(pred - y_true) / (np.abs(y_true) + np.abs(pred)))\n",
    "\n",
    "def rmse(y_true,pred):\n",
    "    return np.sqrt(np.mean((pred-y_true)**2))"
   ]
  },
  {
   "cell_type": "code",
   "execution_count": 17,
   "metadata": {},
   "outputs": [
    {
     "name": "stderr",
     "output_type": "stream",
     "text": [
      "D:\\Anaconda\\lib\\site-packages\\lightgbm\\basic.py:1246: UserWarning: categorical_feature in Dataset is overridden.\n",
      "New categorical_feature is ['month', 'pollutant', 'week_of_year']\n",
      "  warnings.warn('categorical_feature in Dataset is overridden.\\n'\n"
     ]
    }
   ],
   "source": [
    "#initiliazing model\n",
    "model = LGBMRegressor()\n",
    "#passing categorical features\n",
    "categorical_columns = ['pollutant','week_of_year','month']\n",
    "#fitting model\n",
    "model.fit(X_train,y_train,categorical_feature =categorical_columns)\n",
    "#getting predictions\n",
    "predictions = model.predict(X_test)"
   ]
  },
  {
   "cell_type": "code",
   "execution_count": 18,
   "metadata": {},
   "outputs": [
    {
     "name": "stdout",
     "output_type": "stream",
     "text": [
      "SMAPE : 17.70019769282645\n",
      "RMSE : 4.034898403323562\n"
     ]
    }
   ],
   "source": [
    "print('SMAPE :' ,smape(np.array(y_test).ravel(),predictions))\n",
    "print('RMSE :',rmse(np.array(y_test).ravel(),predictions))"
   ]
  },
  {
   "cell_type": "code",
   "execution_count": 19,
   "metadata": {},
   "outputs": [
    {
     "data": {
      "text/plain": [
       "quantity    0.196848\n",
       "dtype: float64"
      ]
     },
     "execution_count": 19,
     "metadata": {},
     "output_type": "execute_result"
    }
   ],
   "source": [
    "rmse(np.array(y_test).ravel(),predictions)/y_test.mean()"
   ]
  },
  {
   "cell_type": "code",
   "execution_count": 20,
   "metadata": {},
   "outputs": [],
   "source": [
    "pollutants = np.array(X_test[['pollutant']]).ravel()\n",
    "preds = predictions\n",
    "actuals = np.array(y_test[['quantity']]).ravel()"
   ]
  },
  {
   "cell_type": "code",
   "execution_count": 21,
   "metadata": {},
   "outputs": [],
   "source": [
    "forecast_data = {'pollutant':pollutants,'actual':actuals,'predictions':preds}\n",
    "forecast = pd.DataFrame(forecast_data)"
   ]
  },
  {
   "cell_type": "markdown",
   "metadata": {},
   "source": [
    "Original: {0: 'CO', 1: 'NO_2', 2: 'O_3', 3: 'PM10', 4: 'PM25', 5: 'SO_2'}"
   ]
  },
  {
   "cell_type": "code",
   "execution_count": 38,
   "metadata": {},
   "outputs": [
    {
     "data": {
      "text/plain": [
       "<matplotlib.legend.Legend at 0x1e73b332550>"
      ]
     },
     "execution_count": 38,
     "metadata": {},
     "output_type": "execute_result"
    },
    {
     "data": {
      "image/png": "[encoded data removed]",
      "text/plain": [
       "<Figure size 1080x360 with 1 Axes>"
      ]
     },
     "metadata": {
      "needs_background": "light"
     },
     "output_type": "display_data"
    }
   ],
   "source": [
    "forecast_0 = forecast[forecast['pollutant']==2]\n",
    "\n",
    "plt.figure(figsize=(15,5))\n",
    "sns.lineplot(np.arange(0,len(forecast_0)),forecast_0['actual'])\n",
    "sns.lineplot(np.arange(0,len(forecast_0)),forecast_0['predictions'])\n",
    "plt.title('Predictions for O2')\n",
    "plt.xlabel('Time')\n",
    "plt.ylabel('μg/m3')\n",
    "plt.legend(['actual','predictioins'])"
   ]
  },
  {
   "cell_type": "code",
   "execution_count": null,
   "metadata": {},
   "outputs": [],
   "source": []
  }
 ],
 "metadata": {
  "kernelspec": {
   "display_name": "Python 3",
   "language": "python",
   "name": "python3"
  },
  "language_info": {
   "codemirror_mode": {
    "name": "ipython",
    "version": 3
   },
   "file_extension": ".py",
   "mimetype": "text/x-python",
   "name": "python",
   "nbconvert_exporter": "python",
   "pygments_lexer": "ipython3",
   "version": "3.8.3"
  }
 },
 "nbformat": 4,
 "nbformat_minor": 2
}
