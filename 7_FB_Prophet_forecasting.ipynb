{
 "cells": [
  {
   "cell_type": "markdown",
   "metadata": {},
   "source": [
    "## Forecasting using FB Prophet"
   ]
  },
  {
   "cell_type": "markdown",
   "metadata": {},
   "source": [
    "Finally in this notebook I will use FB Prophet model to forecast the weekly pollutant levels.\n",
    "\n",
    "As Prophet predicts for given periods and in our case periods/ time step is 1, for each week prediction the model has to be trained repeatedly and hence a loop will be created to make predictions for 1 time step each time."
   ]
  },
  {
   "cell_type": "code",
   "execution_count": 35,
   "metadata": {},
   "outputs": [],
   "source": [
    "#loading libraries\n",
    "import pandas as pd\n",
    "import numpy as np\n",
    "from sklearn.preprocessing import MinMaxScaler\n",
    "\n",
    "from fbprophet import Prophet"
   ]
  },
  {
   "cell_type": "code",
   "execution_count": 36,
   "metadata": {},
   "outputs": [],
   "source": [
    "#loading data and converting date to datetime format\n",
    "df = pd.read_csv('air_pollution.csv')\n",
    "df['date'] = pd.to_datetime(df['date'])"
   ]
  },
  {
   "cell_type": "code",
   "execution_count": 37,
   "metadata": {},
   "outputs": [],
   "source": [
    "#this function will use Prophet model to return predictions\n",
    "def prophet_prediction(df):\n",
    "    \n",
    "        \n",
    "    #initializing the model\n",
    "    m = Prophet(daily_seasonality=False,weekly_seasonality=True)\n",
    "    \n",
    "    #fitting the model\n",
    "    m.fit(df)\n",
    "    #creating predictions with weekly frequency\n",
    "    future = m.make_future_dataframe(periods=1,freq='W')\n",
    "    forecast = m.predict(future)\n",
    "    \n",
    "    #saving only the prediction for the next week\n",
    "    forecast = forecast.tail(1)\n",
    "    prediction = float(np.array(forecast[['yhat']]))\n",
    "    \n",
    "    return prediction"
   ]
  },
  {
   "cell_type": "code",
   "execution_count": 38,
   "metadata": {},
   "outputs": [],
   "source": [
    "#function to pass the required weeks for training to get predictions for next 1 week\n",
    "def get_predictions(df):\n",
    "    \n",
    "    #making a column for weeks starting from  0 to total number of weeks in the data\n",
    "    df['week'] = np.arange(0,len(df))\n",
    "    \n",
    "    #getting the last/max week\n",
    "    max_week = df['week'].max()\n",
    "    \n",
    "    #creating a dataframe of train dataset\n",
    "    last_df = df[df['ds'].dt.year<2017]\n",
    "    #getting the last/max week of this dataset\n",
    "    last_week = last_df['week'].max()\n",
    "    \n",
    "    \n",
    "    predictions = []\n",
    "    actuals = []\n",
    "    \n",
    "    \n",
    "    #looping from 1 to the number of weeks to add on the train dataset to fit\n",
    "    for i in range(1,(max_week-last_week)+1):\n",
    "        \n",
    "        #actual is the y_true where the actual value is the value from the last week in the dataset\n",
    "        actualdf = df[df['week']==(last_week+i)]\n",
    "        #actual appended to the actuals list\n",
    "        actuals.append(float(np.array(actualdf[['y']])))\n",
    "        \n",
    "        #the 'train' df if created as modeldf and passed to prophet function for predictions\n",
    "        modeldf = df[df['week']<(last_week+i)]\n",
    "        modeldf = modeldf[['ds','y']]\n",
    "        #appending predictions\n",
    "        predictions.append(prophet_prediction(modeldf))\n",
    "        \n",
    "        \n",
    "        \n",
    "    return actuals, predictions\n",
    "        "
   ]
  },
  {
   "cell_type": "code",
   "execution_count": 39,
   "metadata": {},
   "outputs": [],
   "source": [
    "#evaluation metrics\n",
    "def smape(y_true, pred):\n",
    "    return 100/len(y_true) * np.sum(2 * np.abs(pred - y_true) / (np.abs(y_true) + np.abs(pred)))\n",
    "\n",
    "def rmse(y_true,pred):\n",
    "    return np.sqrt(np.mean((pred-y_true)**2))"
   ]
  },
  {
   "cell_type": "code",
   "execution_count": 40,
   "metadata": {},
   "outputs": [
    {
     "name": "stderr",
     "output_type": "stream",
     "text": [
      "<ipython-input-38-c0aae5869a72>:5: SettingWithCopyWarning: \n",
      "A value is trying to be set on a copy of a slice from a DataFrame.\n",
      "Try using .loc[row_indexer,col_indexer] = value instead\n",
      "\n",
      "See the caveats in the documentation: https://pandas.pydata.org/pandas-docs/stable/user_guide/indexing.html#returning-a-view-versus-a-copy\n",
      "  df['week'] = np.arange(0,len(df))\n"
     ]
    }
   ],
   "source": [
    "#storing all smapes and rmses\n",
    "smapes = []\n",
    "rmses = []\n",
    "\n",
    "#looping through each column\n",
    "for column in df.columns[1:]:\n",
    "    \n",
    "    #getting the date and value column to pass in the function get_prediction\n",
    "    modeldf = df[['date',column]]\n",
    "    modeldf.columns = ['ds','y']\n",
    "    actuals, predictions = get_predictions(modeldf)\n",
    "\n",
    "#appending smapes and rmses\n",
    "smapes.append(smape(np.array(actuals),np.array(predictions)))\n",
    "rmses.append(rmse(np.array(actuals),np.array(predictions)))\n",
    "    "
   ]
  },
  {
   "cell_type": "code",
   "execution_count": 41,
   "metadata": {},
   "outputs": [
    {
     "name": "stdout",
     "output_type": "stream",
     "text": [
      "SMAPE:  27.727238282335737\n",
      "RMSE:  3.438118885183061\n"
     ]
    }
   ],
   "source": [
    "print('SMAPE: ',np.mean(smapes))\n",
    "print('RMSE: ',np.mean(rmses))"
   ]
  },
  {
   "cell_type": "code",
   "execution_count": null,
   "metadata": {},
   "outputs": [],
   "source": []
  }
 ],
 "metadata": {
  "kernelspec": {
   "display_name": "Python 3",
   "language": "python",
   "name": "python3"
  },
  "language_info": {
   "codemirror_mode": {
    "name": "ipython",
    "version": 3
   },
   "file_extension": ".py",
   "mimetype": "text/x-python",
   "name": "python",
   "nbconvert_exporter": "python",
   "pygments_lexer": "ipython3",
   "version": "3.8.3"
  }
 },
 "nbformat": 4,
 "nbformat_minor": 2
}
